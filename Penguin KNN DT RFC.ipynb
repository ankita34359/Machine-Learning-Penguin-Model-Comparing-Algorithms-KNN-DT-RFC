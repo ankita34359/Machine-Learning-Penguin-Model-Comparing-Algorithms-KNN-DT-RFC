{
 "cells": [
  {
   "cell_type": "code",
   "execution_count": 81,
   "id": "5c71e869-026c-4ec0-8297-029fc33f2967",
   "metadata": {},
   "outputs": [],
   "source": [
    "# Importing pandas and numpy\n",
    "\n",
    "import pandas as pd\n",
    "import numpy as np"
   ]
  },
  {
   "cell_type": "code",
   "execution_count": 82,
   "id": "42e461d2-14fe-4b2c-a2d9-564bbb45cbd8",
   "metadata": {},
   "outputs": [],
   "source": [
    "# Loading our csv dataset\n",
    "\n",
    "df = pd.read_csv(\"penguins_data.csv\")"
   ]
  },
  {
   "cell_type": "code",
   "execution_count": 83,
   "id": "64f1b154-bcda-43e6-94c1-78460201678a",
   "metadata": {},
   "outputs": [
    {
     "data": {
      "text/html": [
       "<div>\n",
       "<style scoped>\n",
       "    .dataframe tbody tr th:only-of-type {\n",
       "        vertical-align: middle;\n",
       "    }\n",
       "\n",
       "    .dataframe tbody tr th {\n",
       "        vertical-align: top;\n",
       "    }\n",
       "\n",
       "    .dataframe thead th {\n",
       "        text-align: right;\n",
       "    }\n",
       "</style>\n",
       "<table border=\"1\" class=\"dataframe\">\n",
       "  <thead>\n",
       "    <tr style=\"text-align: right;\">\n",
       "      <th></th>\n",
       "      <th>CulmenLength</th>\n",
       "      <th>CulmenDepth</th>\n",
       "      <th>FlipperLength</th>\n",
       "      <th>BodyMass</th>\n",
       "      <th>Species</th>\n",
       "    </tr>\n",
       "  </thead>\n",
       "  <tbody>\n",
       "    <tr>\n",
       "      <th>0</th>\n",
       "      <td>39.1</td>\n",
       "      <td>18.7</td>\n",
       "      <td>181.0</td>\n",
       "      <td>3750.0</td>\n",
       "      <td>0</td>\n",
       "    </tr>\n",
       "    <tr>\n",
       "      <th>1</th>\n",
       "      <td>39.5</td>\n",
       "      <td>17.4</td>\n",
       "      <td>186.0</td>\n",
       "      <td>3800.0</td>\n",
       "      <td>0</td>\n",
       "    </tr>\n",
       "    <tr>\n",
       "      <th>2</th>\n",
       "      <td>40.3</td>\n",
       "      <td>18.0</td>\n",
       "      <td>195.0</td>\n",
       "      <td>3250.0</td>\n",
       "      <td>0</td>\n",
       "    </tr>\n",
       "    <tr>\n",
       "      <th>3</th>\n",
       "      <td>NaN</td>\n",
       "      <td>NaN</td>\n",
       "      <td>NaN</td>\n",
       "      <td>NaN</td>\n",
       "      <td>0</td>\n",
       "    </tr>\n",
       "    <tr>\n",
       "      <th>4</th>\n",
       "      <td>36.7</td>\n",
       "      <td>19.3</td>\n",
       "      <td>193.0</td>\n",
       "      <td>3450.0</td>\n",
       "      <td>0</td>\n",
       "    </tr>\n",
       "  </tbody>\n",
       "</table>\n",
       "</div>"
      ],
      "text/plain": [
       "   CulmenLength  CulmenDepth  FlipperLength  BodyMass  Species\n",
       "0          39.1         18.7          181.0    3750.0        0\n",
       "1          39.5         17.4          186.0    3800.0        0\n",
       "2          40.3         18.0          195.0    3250.0        0\n",
       "3           NaN          NaN            NaN       NaN        0\n",
       "4          36.7         19.3          193.0    3450.0        0"
      ]
     },
     "execution_count": 83,
     "metadata": {},
     "output_type": "execute_result"
    }
   ],
   "source": [
    "# Seeing the first 5 rows of the dataset \n",
    "\n",
    "df.head()"
   ]
  },
  {
   "cell_type": "code",
   "execution_count": 84,
   "id": "305dba1f-ae2c-43a4-91cd-36d365ec766a",
   "metadata": {},
   "outputs": [
    {
     "data": {
      "text/plain": [
       "CulmenLength     2\n",
       "CulmenDepth      2\n",
       "FlipperLength    2\n",
       "BodyMass         2\n",
       "Species          0\n",
       "dtype: int64"
      ]
     },
     "execution_count": 84,
     "metadata": {},
     "output_type": "execute_result"
    }
   ],
   "source": [
    "# Checking NaN value\n",
    "\n",
    "df.isna().sum()"
   ]
  },
  {
   "cell_type": "code",
   "execution_count": 85,
   "id": "d259eea2-caec-40e7-9056-d05e8a244014",
   "metadata": {},
   "outputs": [],
   "source": [
    "# Dropping the NaN values row: Because there is only two rows which have NaN values.\n",
    "\n",
    "df = df.dropna()"
   ]
  },
  {
   "cell_type": "code",
   "execution_count": 86,
   "id": "320a0df3-542d-47e0-ad44-cb1a01c526d3",
   "metadata": {},
   "outputs": [
    {
     "data": {
      "text/html": [
       "<div>\n",
       "<style scoped>\n",
       "    .dataframe tbody tr th:only-of-type {\n",
       "        vertical-align: middle;\n",
       "    }\n",
       "\n",
       "    .dataframe tbody tr th {\n",
       "        vertical-align: top;\n",
       "    }\n",
       "\n",
       "    .dataframe thead th {\n",
       "        text-align: right;\n",
       "    }\n",
       "</style>\n",
       "<table border=\"1\" class=\"dataframe\">\n",
       "  <thead>\n",
       "    <tr style=\"text-align: right;\">\n",
       "      <th></th>\n",
       "      <th>CulmenLength</th>\n",
       "      <th>CulmenDepth</th>\n",
       "      <th>FlipperLength</th>\n",
       "      <th>BodyMass</th>\n",
       "      <th>Species</th>\n",
       "    </tr>\n",
       "  </thead>\n",
       "  <tbody>\n",
       "    <tr>\n",
       "      <th>0</th>\n",
       "      <td>39.1</td>\n",
       "      <td>18.7</td>\n",
       "      <td>181.0</td>\n",
       "      <td>3750.0</td>\n",
       "      <td>0</td>\n",
       "    </tr>\n",
       "    <tr>\n",
       "      <th>1</th>\n",
       "      <td>39.5</td>\n",
       "      <td>17.4</td>\n",
       "      <td>186.0</td>\n",
       "      <td>3800.0</td>\n",
       "      <td>0</td>\n",
       "    </tr>\n",
       "    <tr>\n",
       "      <th>2</th>\n",
       "      <td>40.3</td>\n",
       "      <td>18.0</td>\n",
       "      <td>195.0</td>\n",
       "      <td>3250.0</td>\n",
       "      <td>0</td>\n",
       "    </tr>\n",
       "    <tr>\n",
       "      <th>4</th>\n",
       "      <td>36.7</td>\n",
       "      <td>19.3</td>\n",
       "      <td>193.0</td>\n",
       "      <td>3450.0</td>\n",
       "      <td>0</td>\n",
       "    </tr>\n",
       "    <tr>\n",
       "      <th>5</th>\n",
       "      <td>39.3</td>\n",
       "      <td>20.6</td>\n",
       "      <td>190.0</td>\n",
       "      <td>3650.0</td>\n",
       "      <td>0</td>\n",
       "    </tr>\n",
       "  </tbody>\n",
       "</table>\n",
       "</div>"
      ],
      "text/plain": [
       "   CulmenLength  CulmenDepth  FlipperLength  BodyMass  Species\n",
       "0          39.1         18.7          181.0    3750.0        0\n",
       "1          39.5         17.4          186.0    3800.0        0\n",
       "2          40.3         18.0          195.0    3250.0        0\n",
       "4          36.7         19.3          193.0    3450.0        0\n",
       "5          39.3         20.6          190.0    3650.0        0"
      ]
     },
     "execution_count": 86,
     "metadata": {},
     "output_type": "execute_result"
    }
   ],
   "source": [
    "df.head()"
   ]
  },
  {
   "cell_type": "code",
   "execution_count": 87,
   "id": "79e5384e-ff03-468a-bcd0-6e6fa1d9e680",
   "metadata": {},
   "outputs": [
    {
     "data": {
      "text/plain": [
       "0    151\n",
       "1    123\n",
       "2     68\n",
       "Name: Species, dtype: int64"
      ]
     },
     "execution_count": 87,
     "metadata": {},
     "output_type": "execute_result"
    }
   ],
   "source": [
    "# Checking unique categories of species\n",
    "\n",
    "df[\"Species\"].value_counts()"
   ]
  },
  {
   "cell_type": "code",
   "execution_count": 88,
   "id": "586dff3c-ee20-4fb6-ad22-b0a9b66343a3",
   "metadata": {},
   "outputs": [],
   "source": [
    "# Separating features and target from the dataset\n",
    "\n",
    "features = [\"CulmenLength\",\t\"CulmenDepth\",\t\"FlipperLength\", \"BodyMass\", \"Species\"]"
   ]
  },
  {
   "cell_type": "code",
   "execution_count": 89,
   "id": "35acaeaf-c6f3-4644-ae96-92c543b7da54",
   "metadata": {},
   "outputs": [
    {
     "data": {
      "text/html": [
       "<div>\n",
       "<style scoped>\n",
       "    .dataframe tbody tr th:only-of-type {\n",
       "        vertical-align: middle;\n",
       "    }\n",
       "\n",
       "    .dataframe tbody tr th {\n",
       "        vertical-align: top;\n",
       "    }\n",
       "\n",
       "    .dataframe thead th {\n",
       "        text-align: right;\n",
       "    }\n",
       "</style>\n",
       "<table border=\"1\" class=\"dataframe\">\n",
       "  <thead>\n",
       "    <tr style=\"text-align: right;\">\n",
       "      <th></th>\n",
       "      <th>CulmenLength</th>\n",
       "      <th>CulmenDepth</th>\n",
       "      <th>FlipperLength</th>\n",
       "      <th>BodyMass</th>\n",
       "      <th>Species</th>\n",
       "    </tr>\n",
       "  </thead>\n",
       "  <tbody>\n",
       "    <tr>\n",
       "      <th>count</th>\n",
       "      <td>342.000000</td>\n",
       "      <td>342.000000</td>\n",
       "      <td>342.000000</td>\n",
       "      <td>342.000000</td>\n",
       "      <td>342.000000</td>\n",
       "    </tr>\n",
       "    <tr>\n",
       "      <th>mean</th>\n",
       "      <td>43.921930</td>\n",
       "      <td>17.151170</td>\n",
       "      <td>200.915205</td>\n",
       "      <td>4201.754386</td>\n",
       "      <td>0.757310</td>\n",
       "    </tr>\n",
       "    <tr>\n",
       "      <th>std</th>\n",
       "      <td>5.459584</td>\n",
       "      <td>1.974793</td>\n",
       "      <td>14.061714</td>\n",
       "      <td>801.954536</td>\n",
       "      <td>0.763648</td>\n",
       "    </tr>\n",
       "    <tr>\n",
       "      <th>min</th>\n",
       "      <td>32.100000</td>\n",
       "      <td>13.100000</td>\n",
       "      <td>172.000000</td>\n",
       "      <td>2700.000000</td>\n",
       "      <td>0.000000</td>\n",
       "    </tr>\n",
       "    <tr>\n",
       "      <th>25%</th>\n",
       "      <td>39.225000</td>\n",
       "      <td>15.600000</td>\n",
       "      <td>190.000000</td>\n",
       "      <td>3550.000000</td>\n",
       "      <td>0.000000</td>\n",
       "    </tr>\n",
       "    <tr>\n",
       "      <th>50%</th>\n",
       "      <td>44.450000</td>\n",
       "      <td>17.300000</td>\n",
       "      <td>197.000000</td>\n",
       "      <td>4050.000000</td>\n",
       "      <td>1.000000</td>\n",
       "    </tr>\n",
       "    <tr>\n",
       "      <th>75%</th>\n",
       "      <td>48.500000</td>\n",
       "      <td>18.700000</td>\n",
       "      <td>213.000000</td>\n",
       "      <td>4750.000000</td>\n",
       "      <td>1.000000</td>\n",
       "    </tr>\n",
       "    <tr>\n",
       "      <th>max</th>\n",
       "      <td>59.600000</td>\n",
       "      <td>21.500000</td>\n",
       "      <td>231.000000</td>\n",
       "      <td>6300.000000</td>\n",
       "      <td>2.000000</td>\n",
       "    </tr>\n",
       "  </tbody>\n",
       "</table>\n",
       "</div>"
      ],
      "text/plain": [
       "       CulmenLength  CulmenDepth  FlipperLength     BodyMass     Species\n",
       "count    342.000000   342.000000     342.000000   342.000000  342.000000\n",
       "mean      43.921930    17.151170     200.915205  4201.754386    0.757310\n",
       "std        5.459584     1.974793      14.061714   801.954536    0.763648\n",
       "min       32.100000    13.100000     172.000000  2700.000000    0.000000\n",
       "25%       39.225000    15.600000     190.000000  3550.000000    0.000000\n",
       "50%       44.450000    17.300000     197.000000  4050.000000    1.000000\n",
       "75%       48.500000    18.700000     213.000000  4750.000000    1.000000\n",
       "max       59.600000    21.500000     231.000000  6300.000000    2.000000"
      ]
     },
     "execution_count": 89,
     "metadata": {},
     "output_type": "execute_result"
    }
   ],
   "source": [
    "# 'describe' function will retuen statstical summary of dataset\n",
    "\n",
    "df[features].describe()"
   ]
  },
  {
   "cell_type": "code",
   "execution_count": 90,
   "id": "c3d666fa-8218-48ac-b1dc-801697a91e1b",
   "metadata": {},
   "outputs": [
    {
     "data": {
      "text/plain": [
       "(342, 5)"
      ]
     },
     "execution_count": 90,
     "metadata": {},
     "output_type": "execute_result"
    }
   ],
   "source": [
    "df.shape\n"
   ]
  },
  {
   "cell_type": "code",
   "execution_count": 91,
   "id": "bb52ef0a-e124-400d-a75b-3f8fe6ffc5c9",
   "metadata": {},
   "outputs": [
    {
     "data": {
      "text/plain": [
       "CulmenLength     0\n",
       "CulmenDepth      0\n",
       "FlipperLength    0\n",
       "BodyMass         0\n",
       "Species          0\n",
       "dtype: int64"
      ]
     },
     "execution_count": 91,
     "metadata": {},
     "output_type": "execute_result"
    }
   ],
   "source": [
    "# Checking NaN Value\n",
    "\n",
    "df.isna().sum()"
   ]
  },
  {
   "cell_type": "code",
   "execution_count": 92,
   "id": "c89ec1d1-1b0b-4d81-b3b6-a662c8aeef0e",
   "metadata": {},
   "outputs": [],
   "source": [
    "from sklearn.preprocessing import MinMaxScaler"
   ]
  },
  {
   "cell_type": "code",
   "execution_count": 93,
   "id": "50fe1ca1-462f-43e4-ae05-1a1c0e626618",
   "metadata": {},
   "outputs": [],
   "source": [
    "df[\"CulmenLength\"] = MinMaxScaler().fit_transform(df[[\"CulmenLength\"]])\n",
    "df[\"CulmenDepth\"] = MinMaxScaler().fit_transform(df[[\"CulmenDepth\"]])\n",
    "df[\"FlipperLength\"] = MinMaxScaler().fit_transform(df[[\"FlipperLength\"]])\n",
    "df[\"BodyMass\"] = MinMaxScaler().fit_transform(df[[\"BodyMass\"]])"
   ]
  },
  {
   "cell_type": "code",
   "execution_count": 109,
   "id": "8f6cb9b3-1dc2-4d10-9a1c-b498003d92ac",
   "metadata": {},
   "outputs": [
    {
     "data": {
      "text/html": [
       "<div>\n",
       "<style scoped>\n",
       "    .dataframe tbody tr th:only-of-type {\n",
       "        vertical-align: middle;\n",
       "    }\n",
       "\n",
       "    .dataframe tbody tr th {\n",
       "        vertical-align: top;\n",
       "    }\n",
       "\n",
       "    .dataframe thead th {\n",
       "        text-align: right;\n",
       "    }\n",
       "</style>\n",
       "<table border=\"1\" class=\"dataframe\">\n",
       "  <thead>\n",
       "    <tr style=\"text-align: right;\">\n",
       "      <th></th>\n",
       "      <th>CulmenLength</th>\n",
       "      <th>CulmenDepth</th>\n",
       "      <th>FlipperLength</th>\n",
       "      <th>BodyMass</th>\n",
       "      <th>Species</th>\n",
       "    </tr>\n",
       "  </thead>\n",
       "  <tbody>\n",
       "    <tr>\n",
       "      <th>0</th>\n",
       "      <td>0.254545</td>\n",
       "      <td>0.666667</td>\n",
       "      <td>0.152542</td>\n",
       "      <td>0.291667</td>\n",
       "      <td>0</td>\n",
       "    </tr>\n",
       "    <tr>\n",
       "      <th>1</th>\n",
       "      <td>0.269091</td>\n",
       "      <td>0.511905</td>\n",
       "      <td>0.237288</td>\n",
       "      <td>0.305556</td>\n",
       "      <td>0</td>\n",
       "    </tr>\n",
       "    <tr>\n",
       "      <th>2</th>\n",
       "      <td>0.298182</td>\n",
       "      <td>0.583333</td>\n",
       "      <td>0.389831</td>\n",
       "      <td>0.152778</td>\n",
       "      <td>0</td>\n",
       "    </tr>\n",
       "    <tr>\n",
       "      <th>4</th>\n",
       "      <td>0.167273</td>\n",
       "      <td>0.738095</td>\n",
       "      <td>0.355932</td>\n",
       "      <td>0.208333</td>\n",
       "      <td>0</td>\n",
       "    </tr>\n",
       "    <tr>\n",
       "      <th>5</th>\n",
       "      <td>0.261818</td>\n",
       "      <td>0.892857</td>\n",
       "      <td>0.305085</td>\n",
       "      <td>0.263889</td>\n",
       "      <td>0</td>\n",
       "    </tr>\n",
       "  </tbody>\n",
       "</table>\n",
       "</div>"
      ],
      "text/plain": [
       "   CulmenLength  CulmenDepth  FlipperLength  BodyMass  Species\n",
       "0      0.254545     0.666667       0.152542  0.291667        0\n",
       "1      0.269091     0.511905       0.237288  0.305556        0\n",
       "2      0.298182     0.583333       0.389831  0.152778        0\n",
       "4      0.167273     0.738095       0.355932  0.208333        0\n",
       "5      0.261818     0.892857       0.305085  0.263889        0"
      ]
     },
     "execution_count": 109,
     "metadata": {},
     "output_type": "execute_result"
    }
   ],
   "source": [
    "df.head()"
   ]
  },
  {
   "cell_type": "code",
   "execution_count": 94,
   "id": "ffbcf588-1153-446e-a5ed-8c94208de95b",
   "metadata": {},
   "outputs": [],
   "source": [
    "# Separating features and target from the dataset\n",
    "\n",
    "features = [\"CulmenLength\",\t\"CulmenDepth\",\t\"FlipperLength\", \"BodyMass\"]"
   ]
  },
  {
   "cell_type": "code",
   "execution_count": 95,
   "id": "2f1771c4-514f-41a1-a74a-2810adf2fadd",
   "metadata": {},
   "outputs": [],
   "source": [
    "#created the features array\n",
    "X = df[features].values\n",
    "\n",
    "#created the Target array\n",
    "Y = df[\"Species\"].values"
   ]
  },
  {
   "cell_type": "code",
   "execution_count": 96,
   "id": "c8d61486-7c5f-48a9-ac81-18b479b98fea",
   "metadata": {},
   "outputs": [
    {
     "data": {
      "text/plain": [
       "array([[0.25454545, 0.66666667, 0.15254237, 0.29166667],\n",
       "       [0.26909091, 0.51190476, 0.23728814, 0.30555556],\n",
       "       [0.29818182, 0.58333333, 0.38983051, 0.15277778],\n",
       "       [0.16727273, 0.73809524, 0.3559322 , 0.20833333],\n",
       "       [0.26181818, 0.89285714, 0.30508475, 0.26388889]])"
      ]
     },
     "execution_count": 96,
     "metadata": {},
     "output_type": "execute_result"
    }
   ],
   "source": [
    "X[:5]"
   ]
  },
  {
   "cell_type": "code",
   "execution_count": 97,
   "id": "55f493db-b9fc-4013-a252-ce20d2fea06b",
   "metadata": {},
   "outputs": [
    {
     "data": {
      "text/plain": [
       "array([0, 0, 0, 0, 0], dtype=int64)"
      ]
     },
     "execution_count": 97,
     "metadata": {},
     "output_type": "execute_result"
    }
   ],
   "source": [
    "Y[:5]"
   ]
  },
  {
   "cell_type": "code",
   "execution_count": 98,
   "id": "5e92261d-01ac-4717-b9d2-76d6fd6eca20",
   "metadata": {},
   "outputs": [],
   "source": [
    "#Split the data in training and tetsing set.\n",
    "\n",
    "from sklearn.model_selection import train_test_split"
   ]
  },
  {
   "cell_type": "code",
   "execution_count": 99,
   "id": "ce7cb056-6d17-4620-96da-a1908ff5052c",
   "metadata": {},
   "outputs": [],
   "source": [
    "# Training the model\n",
    "\n",
    "X_train, X_test, Y_train, Y_test = train_test_split(X, Y, test_size=0.3)"
   ]
  },
  {
   "cell_type": "code",
   "execution_count": 100,
   "id": "2f345de2-c077-44fe-aa4b-b21e75fbd1d4",
   "metadata": {},
   "outputs": [],
   "source": [
    "# In this we are using the KNN, DT and RF alogorithm for taining the model\n",
    "\n",
    "from sklearn.ensemble import RandomForestClassifier\n",
    "from sklearn.tree import DecisionTreeClassifier\n",
    "from sklearn.neighbors import KNeighborsClassifier "
   ]
  },
  {
   "cell_type": "code",
   "execution_count": 101,
   "id": "860cc895-1acf-4b69-b018-5ff191e5780e",
   "metadata": {},
   "outputs": [],
   "source": [
    "# Here we are creating a model and training the model\n",
    "\n",
    "model_RF = RandomForestClassifier().fit(X_train, Y_train)\n",
    "model_DT = DecisionTreeClassifier().fit(X_train, Y_train)\n",
    "model_KNN = KNeighborsClassifier(n_neighbors=12).fit(X_train, Y_train)"
   ]
  },
  {
   "cell_type": "code",
   "execution_count": 102,
   "id": "c8f85657-6d2d-4b8b-a9ba-88868d99b6f8",
   "metadata": {},
   "outputs": [],
   "source": [
    "#testing\n",
    "Y_pred_RF = model_RF.predict(X_test)\n",
    "Y_pred_DT = model_DT.predict(X_test)\n",
    "Y_pred_KNN = model_KNN.predict(X_test)"
   ]
  },
  {
   "cell_type": "code",
   "execution_count": 103,
   "id": "584e26d6-2307-4dad-9f12-bf14e87b6565",
   "metadata": {},
   "outputs": [],
   "source": [
    "#evaluation metric\n",
    "\n",
    "from sklearn.metrics import accuracy_score"
   ]
  },
  {
   "cell_type": "code",
   "execution_count": 110,
   "id": "2623950f-2a64-4ec0-9233-78d844d79bea",
   "metadata": {},
   "outputs": [
    {
     "name": "stdout",
     "output_type": "stream",
     "text": [
      "The accuracy for Random Forest is:  98.05825242718447\n",
      "The accuracy for Decision Tree is:  99.02912621359224\n",
      "The accuracy for KNN is:  98.05825242718447\n"
     ]
    }
   ],
   "source": [
    "# Calculating the models accuracy\n",
    "\n",
    "acc_RF = accuracy_score(Y_test, Y_pred_RF)*100\n",
    "acc_DT = accuracy_score(Y_test, Y_pred_DT)*100\n",
    "acc_KNN = accuracy_score(Y_test, Y_pred_KNN)*100\n",
    "print(\"The accuracy for Random Forest is: \", acc_RF)\n",
    "print(\"The accuracy for Decision Tree is: \", acc_DT)\n",
    "print(\"The accuracy for KNN is: \", acc_KNN)"
   ]
  },
  {
   "cell_type": "code",
   "execution_count": 105,
   "id": "1ff22e84-3b9c-459a-a3cf-8dc8418aa28c",
   "metadata": {},
   "outputs": [
    {
     "data": {
      "text/plain": [
       "'C:\\\\Users\\\\Lenovo\\\\OneDrive\\\\Desktop\\\\Juypter_projects'"
      ]
     },
     "execution_count": 105,
     "metadata": {},
     "output_type": "execute_result"
    }
   ],
   "source": [
    "pwd"
   ]
  },
  {
   "cell_type": "code",
   "execution_count": 106,
   "id": "aab5e981-987e-4b77-b553-3f66385a79ca",
   "metadata": {},
   "outputs": [],
   "source": [
    "import joblib"
   ]
  },
  {
   "cell_type": "code",
   "execution_count": 107,
   "id": "685207e8-a7ce-463a-8a51-dde46b2d4029",
   "metadata": {},
   "outputs": [
    {
     "data": {
      "text/plain": [
       "['penguin_model.pkl']"
      ]
     },
     "execution_count": 107,
     "metadata": {},
     "output_type": "execute_result"
    }
   ],
   "source": [
    "# Save the model as pickel file\n",
    "joblib.dump(model_RF, \"penguin_model.pkl\")"
   ]
  },
  {
   "cell_type": "code",
   "execution_count": 108,
   "id": "2830b6f3-5e86-47af-905a-7a483d7be135",
   "metadata": {},
   "outputs": [],
   "source": [
    "# load the model from the file\n",
    "loaded_model = joblib.load(\"penguin_model.pkl\")"
   ]
  }
 ],
 "metadata": {
  "kernelspec": {
   "display_name": "Python 3 (ipykernel)",
   "language": "python",
   "name": "python3"
  },
  "language_info": {
   "codemirror_mode": {
    "name": "ipython",
    "version": 3
   },
   "file_extension": ".py",
   "mimetype": "text/x-python",
   "name": "python",
   "nbconvert_exporter": "python",
   "pygments_lexer": "ipython3",
   "version": "3.11.2"
  }
 },
 "nbformat": 4,
 "nbformat_minor": 5
}
